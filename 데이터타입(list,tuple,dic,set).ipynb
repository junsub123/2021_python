{
  "nbformat": 4,
  "nbformat_minor": 0,
  "metadata": {
    "colab": {
      "name": "데이터타입(list,tuple,dic,set).ipynb",
      "provenance": [],
      "authorship_tag": "ABX9TyNLLaSXPn/pJZn+Xm97jaZo",
      "include_colab_link": true
    },
    "kernelspec": {
      "name": "python3",
      "display_name": "Python 3"
    },
    "language_info": {
      "name": "python"
    }
  },
  "cells": [
    {
      "cell_type": "markdown",
      "metadata": {
        "id": "view-in-github",
        "colab_type": "text"
      },
      "source": [
        "<a href=\"https://colab.research.google.com/github/junsub123/2021_python/blob/main/%EB%8D%B0%EC%9D%B4%ED%84%B0%ED%83%80%EC%9E%85(list%2Ctuple%2Cdic%2Cset).ipynb\" target=\"_parent\"><img src=\"https://colab.research.google.com/assets/colab-badge.svg\" alt=\"Open In Colab\"/></a>"
      ]
    },
    {
      "cell_type": "markdown",
      "metadata": {
        "id": "OKOKqL8y8oVL"
      },
      "source": [
        "## **학습목표**\n",
        "- 리스트(list)와 튜플(tuple)에 대해 이해하기\n",
        "- 딕셔너리(dict)와 셋(set)에 대해 이해하기"
      ]
    },
    {
      "cell_type": "markdown",
      "metadata": {
        "id": "zqUP54EQ87zR"
      },
      "source": [
        "### **리스트(list)와 튜플(tuple)**\n",
        "- 여러 개의 값을 담을 수 있는 데이터 구조\n",
        "- list : 생성한 후에 변경이 가능\n",
        "- tuple : 생성한 후 변경이 불가능"
      ]
    },
    {
      "cell_type": "code",
      "metadata": {
        "colab": {
          "base_uri": "https://localhost:8080/"
        },
        "id": "s7JTyh4d9f-W",
        "outputId": "497c58c9-ad47-4e2a-bb38-aa78a889c0dd"
      },
      "source": [
        "a = [1,2,3,4,5] # []안에 값을 담아서 생성\n",
        "print(a)"
      ],
      "execution_count": null,
      "outputs": [
        {
          "output_type": "stream",
          "name": "stdout",
          "text": [
            "[1, 2, 3, 4, 5]\n"
          ]
        }
      ]
    },
    {
      "cell_type": "code",
      "metadata": {
        "colab": {
          "base_uri": "https://localhost:8080/"
        },
        "id": "Ii05oVDS90Li",
        "outputId": "2c390ae1-bbc5-4867-bbb7-b2c32a7d8916"
      },
      "source": [
        "a = ['컴넷','A','1학년',10,20,[2,3]]\n",
        "print(a)"
      ],
      "execution_count": null,
      "outputs": [
        {
          "output_type": "stream",
          "name": "stdout",
          "text": [
            "['컴넷', 'A', '1학년', 10, 20, [2, 3]]\n"
          ]
        }
      ]
    },
    {
      "cell_type": "code",
      "metadata": {
        "colab": {
          "base_uri": "https://localhost:8080/"
        },
        "id": "jAYiYOBB-K2z",
        "outputId": "15f74d34-3be8-4bfe-c8e9-91b4d4072577"
      },
      "source": [
        "a = \"hello comnet A!\"\n",
        "b = list(a) # list()함수로 리스트생성\n",
        "# 다른 타입(문자열)을 리스트로 변환할 때 사용 가능\n",
        "\n",
        "c = a.split() # 물자열의 공백을 기준으로 리스트를 생성\n",
        "d = a.split('l') #구분자(매개변수) 기분\n",
        "\n",
        "print(b)\n",
        "print(b)"
      ],
      "execution_count": null,
      "outputs": [
        {
          "output_type": "stream",
          "name": "stdout",
          "text": [
            "['h', 'e', 'l', 'l', 'o', ' ', 'c', 'o', 'm', 'n', 'e', 't', ' ', 'A', '!']\n",
            "['h', 'e', 'l', 'l', 'o', ' ', 'c', 'o', 'm', 'n', 'e', 't', ' ', 'A', '!']\n"
          ]
        }
      ]
    },
    {
      "cell_type": "markdown",
      "metadata": {
        "id": "eZZ_Y0Pu_9iU"
      },
      "source": [
        "### **리스트 indexting**\n",
        "- [] 연산자를 이용해 항목을 가져온다.\n",
        "- [i]: i번째 원소를 반환한다.\n",
        "- i가 음수면, 마지막 원소에서 -1로 하여 가져온다"
      ]
    },
    {
      "cell_type": "code",
      "metadata": {
        "colab": {
          "base_uri": "https://localhost:8080/",
          "height": 244
        },
        "id": "6L9xCUJXAfKs",
        "outputId": "3b80510e-e935-48bb-e8b5-9b0af185386d"
      },
      "source": [
        "a = [1,2,3,4,5,6,7,8,9,10]\n",
        "print(a[0], a[2])\n",
        "print(a[-1], a[-3])\n",
        "print(a[10])"
      ],
      "execution_count": null,
      "outputs": [
        {
          "output_type": "stream",
          "name": "stdout",
          "text": [
            "1 3\n",
            "10 8\n"
          ]
        },
        {
          "output_type": "error",
          "ename": "IndexError",
          "evalue": "ignored",
          "traceback": [
            "\u001b[0;31m---------------------------------------------------------------------------\u001b[0m",
            "\u001b[0;31mIndexError\u001b[0m                                Traceback (most recent call last)",
            "\u001b[0;32m<ipython-input-6-b7e98bcee08c>\u001b[0m in \u001b[0;36m<module>\u001b[0;34m()\u001b[0m\n\u001b[1;32m      2\u001b[0m \u001b[0mprint\u001b[0m\u001b[0;34m(\u001b[0m\u001b[0ma\u001b[0m\u001b[0;34m[\u001b[0m\u001b[0;36m0\u001b[0m\u001b[0;34m]\u001b[0m\u001b[0;34m,\u001b[0m \u001b[0ma\u001b[0m\u001b[0;34m[\u001b[0m\u001b[0;36m2\u001b[0m\u001b[0;34m]\u001b[0m\u001b[0;34m)\u001b[0m\u001b[0;34m\u001b[0m\u001b[0;34m\u001b[0m\u001b[0m\n\u001b[1;32m      3\u001b[0m \u001b[0mprint\u001b[0m\u001b[0;34m(\u001b[0m\u001b[0ma\u001b[0m\u001b[0;34m[\u001b[0m\u001b[0;34m-\u001b[0m\u001b[0;36m1\u001b[0m\u001b[0;34m]\u001b[0m\u001b[0;34m,\u001b[0m \u001b[0ma\u001b[0m\u001b[0;34m[\u001b[0m\u001b[0;34m-\u001b[0m\u001b[0;36m3\u001b[0m\u001b[0;34m]\u001b[0m\u001b[0;34m)\u001b[0m\u001b[0;34m\u001b[0m\u001b[0;34m\u001b[0m\u001b[0m\n\u001b[0;32m----> 4\u001b[0;31m \u001b[0mprint\u001b[0m\u001b[0;34m(\u001b[0m\u001b[0ma\u001b[0m\u001b[0;34m[\u001b[0m\u001b[0;36m10\u001b[0m\u001b[0;34m]\u001b[0m\u001b[0;34m)\u001b[0m\u001b[0;34m\u001b[0m\u001b[0;34m\u001b[0m\u001b[0m\n\u001b[0m",
            "\u001b[0;31mIndexError\u001b[0m: list index out of range"
          ]
        }
      ]
    },
    {
      "cell_type": "code",
      "metadata": {
        "colab": {
          "base_uri": "https://localhost:8080/"
        },
        "id": "SAriJV7qBPkE",
        "outputId": "8934f867-05f4-4ae3-d395-dc4b761b988a"
      },
      "source": [
        "#인덱스 접근 후 값을 업데이트\n",
        "a = \"hello comnet A!\" \n",
        "b = a.replace('l','w')\n",
        "c = 'j' +a[1:]\n",
        "print(b)\n",
        "print(c)\n",
        "\n",
        "a = [1,2,3,4,5,6,7,8,9,10]\n",
        "a[0] = 100\n",
        "a[-1] = 90\n",
        "print(a)"
      ],
      "execution_count": null,
      "outputs": [
        {
          "output_type": "stream",
          "name": "stdout",
          "text": [
            "hewwo comnet A!\n",
            "jello comnet A!\n",
            "[100, 2, 3, 4, 5, 6, 7, 8, 9, 90]\n"
          ]
        }
      ]
    },
    {
      "cell_type": "markdown",
      "metadata": {
        "id": "zQFYcSXdN_pp"
      },
      "source": [
        "### **리스트 slicing**\n",
        "- 슬라이싱 결과 역시 리스트\n",
        "- 문자열과 동일하게 동작\n",
        "\n"
      ]
    },
    {
      "cell_type": "code",
      "metadata": {
        "colab": {
          "base_uri": "https://localhost:8080/"
        },
        "id": "wrCDVNC5OJCZ",
        "outputId": "89270913-f6a0-48b7-fd02-81029a231a47"
      },
      "source": [
        "# a = [1,2,3,4,5,6,7,8,9,10]\n",
        "# 슬라이싱 [시작:끝:증가]\n",
        "\n",
        "print(a[3:7])\n",
        "print(a[:7])\n",
        "print(a[3:])\n",
        "print(a[:])\n",
        "print(a[1:7:2])"
      ],
      "execution_count": null,
      "outputs": [
        {
          "output_type": "stream",
          "name": "stdout",
          "text": [
            "[4, 5, 6, 7]\n",
            "[100, 2, 3, 4, 5, 6, 7]\n",
            "[4, 5, 6, 7, 8, 9, 90]\n",
            "[100, 2, 3, 4, 5, 6, 7, 8, 9, 90]\n",
            "[2, 4, 6]\n"
          ]
        }
      ]
    },
    {
      "cell_type": "markdown",
      "metadata": {
        "id": "A63fm1ETPDdX"
      },
      "source": [
        "### **리스트 멤버 함수**\n",
        "- 생성된 리스트에 동작하는 함수\n",
        "- append() : 리스트 끝에다가 항목을 추가\n",
        "- extend() : 리스트를 연장(+=)\n",
        "- insert() : 원하는 위치에 추가 가능(위치,아이템)\n",
        "\n",
        "- remove() :  갑승로 항목을 삭제\n",
        "- pop() : 지우고자 하는 인덱스의 아이템을 반환 후 삭제\n",
        "- index() : 찾고자하는 값의 인덱스를 반환함"
      ]
    },
    {
      "cell_type": "code",
      "metadata": {
        "colab": {
          "base_uri": "https://localhost:8080/"
        },
        "id": "pfV3lkDZPWXB",
        "outputId": "21a39940-3a0e-4586-f333-17fdd767c30d"
      },
      "source": [
        "a = [1,2,3,4,5]\n",
        "a.append(10)\n",
        "print(a)"
      ],
      "execution_count": null,
      "outputs": [
        {
          "output_type": "stream",
          "name": "stdout",
          "text": [
            "[1, 2, 3, 4, 5, 10]\n",
            "[1, 2, 3, 4, 5, 10, 11, 12, 13, 14, 15]\n"
          ]
        }
      ]
    },
    {
      "cell_type": "code",
      "metadata": {
        "colab": {
          "base_uri": "https://localhost:8080/"
        },
        "id": "I0BnM9n6QciM",
        "outputId": "990474f9-c1c5-4976-a706-33958fca88d9"
      },
      "source": [
        "b = [11,12,13,14,15]\n",
        "# a.extend(b)\n",
        "a+= b\n",
        "print(a)"
      ],
      "execution_count": null,
      "outputs": [
        {
          "output_type": "stream",
          "name": "stdout",
          "text": [
            "[1, 2, 3, 4, 5, 20, 10, 11, 12, 13, 14, 15, 11, 12, 13, 14, 15]\n"
          ]
        }
      ]
    },
    {
      "cell_type": "code",
      "metadata": {
        "colab": {
          "base_uri": "https://localhost:8080/"
        },
        "id": "USSXuIUVQdq9",
        "outputId": "b54e1e94-608f-49a7-883a-d32bee42966e"
      },
      "source": [
        "a.insert(5,20)\n",
        "print(a)"
      ],
      "execution_count": null,
      "outputs": [
        {
          "output_type": "stream",
          "name": "stdout",
          "text": [
            "[1, 2, 3, 4, 5, 20, 10, 11, 12, 13, 14, 15]\n"
          ]
        }
      ]
    },
    {
      "cell_type": "code",
      "metadata": {
        "colab": {
          "base_uri": "https://localhost:8080/"
        },
        "id": "3yL1wZSMQ9cl",
        "outputId": "756e4fb9-9075-4db9-81b3-e1bd1fbd1873"
      },
      "source": [
        "a.remove(20)\n",
        "print(a)"
      ],
      "execution_count": null,
      "outputs": [
        {
          "output_type": "stream",
          "name": "stdout",
          "text": [
            "[1, 2, 3, 4, 10, 11, 12, 13, 14, 15, 11, 12, 13, 14, 15]\n"
          ]
        }
      ]
    },
    {
      "cell_type": "code",
      "metadata": {
        "colab": {
          "base_uri": "https://localhost:8080/"
        },
        "id": "0gjR2wWPRtT7",
        "outputId": "cc90db60-3d1e-4855-f16f-a9623f161006"
      },
      "source": [
        "a = [1,2,3,4,5,6,7,8,9,10,11,12,13,14,15]\n",
        "c = a.pop(10)\n",
        "\n",
        "print(a)\n",
        "print(c)"
      ],
      "execution_count": null,
      "outputs": [
        {
          "output_type": "stream",
          "name": "stdout",
          "text": [
            "[1, 2, 3, 4, 5, 6, 7, 8, 9, 10, 12, 13, 14, 15]\n",
            "11\n"
          ]
        }
      ]
    },
    {
      "cell_type": "code",
      "metadata": {
        "colab": {
          "base_uri": "https://localhost:8080/"
        },
        "id": "m1aAe_o_XBY4",
        "outputId": "4f5545b6-b4b4-40b3-c6d4-c3dc4a290449"
      },
      "source": [
        "a = [2,6,7,9,10]\n",
        "a.index(7)"
      ],
      "execution_count": 26,
      "outputs": [
        {
          "output_type": "execute_result",
          "data": {
            "text/plain": [
              "2"
            ]
          },
          "metadata": {},
          "execution_count": 26
        }
      ]
    },
    {
      "cell_type": "markdown",
      "metadata": {
        "id": "9NPQDIDwXb6F"
      },
      "source": [
        "### **in 키워드**\n",
        "- 리스트 내에 해당 값이 존재하는지\n",
        "- True, FAlse 중 한가지로 반환\n",
        "- 값 in [list]\n"
      ]
    },
    {
      "cell_type": "code",
      "metadata": {
        "colab": {
          "base_uri": "https://localhost:8080/"
        },
        "id": "zxHbjLkEXqUW",
        "outputId": "9e035d72-c43f-4b13-ae98-438e6681d557"
      },
      "source": [
        "a = [1,2,3,4,5,6,7]\n",
        "b = 5\n",
        "c = 10\n",
        "d = b in a\n",
        "\n",
        "print(d)\n",
        "print(c in a)"
      ],
      "execution_count": 27,
      "outputs": [
        {
          "output_type": "stream",
          "name": "stdout",
          "text": [
            "True\n",
            "False\n"
          ]
        }
      ]
    },
    {
      "cell_type": "markdown",
      "metadata": {
        "id": "ZzOuFq6LYKsE"
      },
      "source": [
        "### **ilst 정렬**\n",
        "- sort() : 리스트 자체를 내부적으로 정렬\n",
        "- sorted() : 정렬된 리스트의 복사본을 반환\n",
        "\n",
        "\n"
      ]
    },
    {
      "cell_type": "code",
      "metadata": {
        "colab": {
          "base_uri": "https://localhost:8080/"
        },
        "id": "cJ75-G1EZhUs",
        "outputId": "588f378d-3514-4fdc-9878-63acd044d6ed"
      },
      "source": [
        "a = [9,10,23,1,2,45,2,35,129,31,6]\n",
        "b = sorted(a)\n",
        "print(a)\n",
        "\n",
        "a.sort(reverse=True) #거꾸로 정렬\n",
        "print(a)\n",
        "print(b)"
      ],
      "execution_count": 32,
      "outputs": [
        {
          "output_type": "stream",
          "name": "stdout",
          "text": [
            "[9, 10, 23, 1, 2, 45, 2, 35, 129, 31, 6]\n",
            "[129, 45, 35, 31, 23, 10, 9, 6, 2, 2, 1]\n",
            "[1, 2, 2, 6, 9, 10, 23, 31, 35, 45, 129]\n"
          ]
        }
      ]
    },
    {
      "cell_type": "markdown",
      "metadata": {
        "id": "YOe_c05aaN50"
      },
      "source": [
        "### **튜플(tuple)**\n",
        "- 리스트와 같이 여러 개의 값을 갖는 데이터 컬렉션 타입\n",
        "- 생성된 후 변경이 불가능"
      ]
    },
    {
      "cell_type": "code",
      "metadata": {
        "id": "ZE77Gj3ca_WF"
      },
      "source": [
        "a = [1,2,3]\n",
        "b = (1,2,3)\n",
        "\n",
        "print(type(a))\n",
        "print(type(b))\n",
        "\n",
        "a[0]= 100\n",
        "print(a)\n",
        "# b[0]=100 오류!\n",
        "# print()\n",
        "print(b)"
      ],
      "execution_count": null,
      "outputs": []
    },
    {
      "cell_type": "code",
      "metadata": {
        "colab": {
          "base_uri": "https://localhost:8080/"
        },
        "id": "oZRJflETbrhF",
        "outputId": "a3e9e8bd-ac2c-4539-89f9-86b28d022951"
      },
      "source": [
        "a,b,c,d = 10, 20, 30, 40\n",
        "print(a,b,c,d)"
      ],
      "execution_count": 33,
      "outputs": [
        {
          "output_type": "stream",
          "name": "stdout",
          "text": [
            "10 20 30 40\n"
          ]
        }
      ]
    },
    {
      "cell_type": "code",
      "metadata": {
        "colab": {
          "base_uri": "https://localhost:8080/"
        },
        "id": "sZZtbrwqb91g",
        "outputId": "71a094b8-8757-4985-c002-6e0ea3d60dd6"
      },
      "source": [
        "a = 5\n",
        "b = 4\n",
        "\n",
        "#문제: a,b의 값을 교환하시오.\n",
        "#temp = a\n",
        "#a = b\n",
        "#b = temp\n",
        "print(a,b)\n",
        "a, b = b, a\n",
        "print(a,b)"
      ],
      "execution_count": 34,
      "outputs": [
        {
          "output_type": "stream",
          "name": "stdout",
          "text": [
            "5 4\n",
            "4 5\n"
          ]
        }
      ]
    }
  ]
}