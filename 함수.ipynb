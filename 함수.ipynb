{
  "nbformat": 4,
  "nbformat_minor": 0,
  "metadata": {
    "colab": {
      "name": "함수.ipynb",
      "provenance": [],
      "authorship_tag": "ABX9TyMuqhPWrun/qXpyH0HTIpCc",
      "include_colab_link": true
    },
    "kernelspec": {
      "name": "python3",
      "display_name": "Python 3"
    },
    "language_info": {
      "name": "python"
    }
  },
  "cells": [
    {
      "cell_type": "markdown",
      "metadata": {
        "id": "view-in-github",
        "colab_type": "text"
      },
      "source": [
        "<a href=\"https://colab.research.google.com/github/junsub123/2021_python/blob/main/%ED%95%A8%EC%88%98.ipynb\" target=\"_parent\"><img src=\"https://colab.research.google.com/assets/colab-badge.svg\" alt=\"Open In Colab\"/></a>"
      ]
    },
    {
      "cell_type": "markdown",
      "metadata": {
        "id": "qyCGKDmYSFFb"
      },
      "source": [
        "## **학습목표**\n",
        "\n",
        "1. 함수의 이해\n",
        "2. 함수 구현 및 사용 숙지\n",
        "\n"
      ]
    },
    {
      "cell_type": "markdown",
      "metadata": {
        "id": "J1V2SLp5SKHx"
      },
      "source": [
        "\n",
        "# **함수??**\n",
        "- 예를 들어 range함수\n",
        "- 함수는 주어진 입력(input)에  대해 어떤 \n",
        "기능을 수행해서 출력(output)을 전달하는 역할\n",
        "\n",
        "> range() 정수를 입력으로 전달하면 [0,정수]까지 \n",
        "이루어지는 디스트를 생성하는 역할을 해준다.\n",
        "\n",
        "- 이 함수들은 python 내부에 정의 (구현)되어 있다. `내장함수(built-in function)`\n",
        "\n"
      ]
    },
    {
      "cell_type": "code",
      "metadata": {
        "colab": {
          "base_uri": "https://localhost:8080/"
        },
        "id": "9Uqj10NZSJst",
        "outputId": "f46c358d-52b4-4197-9e42-54e3d6c07911"
      },
      "source": [
        "# 내장 함수의 예\n",
        "a = [1,2,3,4,3,2,4,56,2,4,3,4]\n",
        "l = len(a)\n",
        "print(l)\n",
        "\n",
        "plus = sum(a)\n",
        "print(plus)"
      ],
      "execution_count": 1,
      "outputs": [
        {
          "output_type": "stream",
          "name": "stdout",
          "text": [
            "12\n"
          ]
        }
      ]
    },
    {
      "cell_type": "markdown",
      "metadata": {
        "id": "mtaWB4IcSYc4"
      },
      "source": [
        "### **함수의 정의**\n",
        "\n",
        "- def 라는 키워드를 사용(definition)\n",
        "- (argument, parameter) 매개변수 : 함수에 입력으로 전달하는 값\n",
        "- 함수의 내용부분\n",
        " - 함수를 호출한 후 원하는 기능 수행 후, 완료된 값을 return으로 출력\n",
        "\n",
        " - 중요한 건 함수의 네이밍 \n",
        "  - 어떤 기능을 하는 함수인지 이름으로 나타낼수 있게 해야함\n",
        "\n",
        "- a(X)student_name(o)"
      ]
    },
    {
      "cell_type": "code",
      "metadata": {
        "colab": {
          "base_uri": "https://localhost:8080/"
        },
        "id": "GFbmUIRIScCA",
        "outputId": "c2fd6f8c-133b-46bb-b99b-085c06650f93"
      },
      "source": [
        "def add(a,b): # 매개변수\n",
        "  n = a + b\n",
        "  return n\n",
        "\n",
        "def minus(a,b):\n",
        " n = a - b\n",
        " return n\n",
        "\n",
        "def  mul(a,b):\n",
        " n = a * b\n",
        " return n\n",
        "\n",
        "x = add(200,231)\n",
        "y = minus(300,200)\n",
        "z = mul(2000,100)\n",
        "\n",
        "print(x,y,z)"
      ],
      "execution_count": 6,
      "outputs": [
        {
          "output_type": "stream",
          "name": "stdout",
          "text": [
            "431 100 200000\n"
          ]
        }
      ]
    }
  ]
}