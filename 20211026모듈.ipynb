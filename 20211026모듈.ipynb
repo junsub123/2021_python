{
  "nbformat": 4,
  "nbformat_minor": 0,
  "metadata": {
    "colab": {
      "name": "20211026모듈.ipynb",
      "provenance": [],
      "authorship_tag": "ABX9TyPW4vRZsTFAgyIipfC9G37y",
      "include_colab_link": true
    },
    "kernelspec": {
      "name": "python3",
      "display_name": "Python 3"
    },
    "language_info": {
      "name": "python"
    }
  },
  "cells": [
    {
      "cell_type": "markdown",
      "metadata": {
        "id": "view-in-github",
        "colab_type": "text"
      },
      "source": [
        "<a href=\"https://colab.research.google.com/github/junsub123/2021_python/blob/main/20211026%EB%AA%A8%EB%93%88.ipynb\" target=\"_parent\"><img src=\"https://colab.research.google.com/assets/colab-badge.svg\" alt=\"Open In Colab\"/></a>"
      ]
    },
    {
      "cell_type": "code",
      "metadata": {
        "colab": {
          "base_uri": "https://localhost:8080/"
        },
        "id": "atp8RsDu1Vch",
        "outputId": "e13ab2eb-29c5-493e-b631-5e6514ad247c"
      },
      "source": [
        "# 구구단\n",
        "def gugudan(n=2):\n",
        "  for i in range(1,10):\n",
        "    print(f'{n} * {i} = {i * n}')\n",
        "\n",
        "gugudan(1)\n",
        "gugudan(2)\n",
        "gugudan(3)\n",
        "gugudan(4)\n",
        "gugudan(5)\n",
        "gugudan(6)\n",
        "gugudan(7)\n",
        "gugudan(8)\n",
        "gugudan(9)\n",
        "gugudan(2)"
      ],
      "execution_count": 1,
      "outputs": [
        {
          "output_type": "stream",
          "name": "stdout",
          "text": [
            "1 * 1 = 1\n",
            "1 * 2 = 2\n",
            "1 * 3 = 3\n",
            "1 * 4 = 4\n",
            "1 * 5 = 5\n",
            "1 * 6 = 6\n",
            "1 * 7 = 7\n",
            "1 * 8 = 8\n",
            "1 * 9 = 9\n",
            "2 * 1 = 2\n",
            "2 * 2 = 4\n",
            "2 * 3 = 6\n",
            "2 * 4 = 8\n",
            "2 * 5 = 10\n",
            "2 * 6 = 12\n",
            "2 * 7 = 14\n",
            "2 * 8 = 16\n",
            "2 * 9 = 18\n",
            "3 * 1 = 3\n",
            "3 * 2 = 6\n",
            "3 * 3 = 9\n",
            "3 * 4 = 12\n",
            "3 * 5 = 15\n",
            "3 * 6 = 18\n",
            "3 * 7 = 21\n",
            "3 * 8 = 24\n",
            "3 * 9 = 27\n",
            "4 * 1 = 4\n",
            "4 * 2 = 8\n",
            "4 * 3 = 12\n",
            "4 * 4 = 16\n",
            "4 * 5 = 20\n",
            "4 * 6 = 24\n",
            "4 * 7 = 28\n",
            "4 * 8 = 32\n",
            "4 * 9 = 36\n",
            "5 * 1 = 5\n",
            "5 * 2 = 10\n",
            "5 * 3 = 15\n",
            "5 * 4 = 20\n",
            "5 * 5 = 25\n",
            "5 * 6 = 30\n",
            "5 * 7 = 35\n",
            "5 * 8 = 40\n",
            "5 * 9 = 45\n",
            "6 * 1 = 6\n",
            "6 * 2 = 12\n",
            "6 * 3 = 18\n",
            "6 * 4 = 24\n",
            "6 * 5 = 30\n",
            "6 * 6 = 36\n",
            "6 * 7 = 42\n",
            "6 * 8 = 48\n",
            "6 * 9 = 54\n",
            "7 * 1 = 7\n",
            "7 * 2 = 14\n",
            "7 * 3 = 21\n",
            "7 * 4 = 28\n",
            "7 * 5 = 35\n",
            "7 * 6 = 42\n",
            "7 * 7 = 49\n",
            "7 * 8 = 56\n",
            "7 * 9 = 63\n",
            "8 * 1 = 8\n",
            "8 * 2 = 16\n",
            "8 * 3 = 24\n",
            "8 * 4 = 32\n",
            "8 * 5 = 40\n",
            "8 * 6 = 48\n",
            "8 * 7 = 56\n",
            "8 * 8 = 64\n",
            "8 * 9 = 72\n",
            "9 * 1 = 9\n",
            "9 * 2 = 18\n",
            "9 * 3 = 27\n",
            "9 * 4 = 36\n",
            "9 * 5 = 45\n",
            "9 * 6 = 54\n",
            "9 * 7 = 63\n",
            "9 * 8 = 72\n",
            "9 * 9 = 81\n",
            "2 * 1 = 2\n",
            "2 * 2 = 4\n",
            "2 * 3 = 6\n",
            "2 * 4 = 8\n",
            "2 * 5 = 10\n",
            "2 * 6 = 12\n",
            "2 * 7 = 14\n",
            "2 * 8 = 16\n",
            "2 * 9 = 18\n"
          ]
        }
      ]
    },
    {
      "cell_type": "code",
      "metadata": {
        "colab": {
          "base_uri": "https://localhost:8080/"
        },
        "id": "nv-FJdSM5tW0",
        "outputId": "3525a862-20c2-45d2-c70d-f52461a9145d"
      },
      "source": [
        "# 원의 지름을 매개 변수로 받아 넓이를 리턴하는 circle_area 함수를 작성하시오.\n",
        "import math\n",
        "\n",
        "def circle_area(dia):\n",
        "  r = dia / 2\n",
        "  area = r**2 * math.pi\n",
        "  return area\n",
        "\n",
        "circle_area(10)"
      ],
      "execution_count": 10,
      "outputs": [
        {
          "output_type": "execute_result",
          "data": {
            "text/plain": [
              "78.53981633974483"
            ]
          },
          "metadata": {},
          "execution_count": 10
        }
      ]
    },
    {
      "cell_type": "markdown",
      "metadata": {
        "id": "SQtjr8r7CZc-"
      },
      "source": [
        "# **학습목표**\n",
        "- 모듈의 이해 및 모듈 import"
      ]
    },
    {
      "cell_type": "code",
      "metadata": {
        "colab": {
          "base_uri": "https://localhost:8080/"
        },
        "id": "jHZuyqxx6LW7",
        "outputId": "41e611d9-c4d8-41b2-d736-9da7cb9f1e61"
      },
      "source": [
        "import math\n",
        "\n",
        "pipi = math.pi\n",
        "fact = math.factorial(5)\n",
        "root = math.sqrt(25)\n",
        "\n",
        "print(pipi)\n",
        "print(fact)\n",
        "print(root)"
      ],
      "execution_count": 25,
      "outputs": [
        {
          "output_type": "stream",
          "name": "stdout",
          "text": [
            "3.141592653589793\n",
            "120\n",
            "5.0\n"
          ]
        }
      ]
    },
    {
      "cell_type": "markdown",
      "metadata": {
        "id": "Aas0pJGxDfa8"
      },
      "source": [
        ""
      ]
    },
    {
      "cell_type": "code",
      "metadata": {
        "colab": {
          "base_uri": "https://localhost:8080/"
        },
        "id": "8oWtMQRu6RFB",
        "outputId": "483b62f3-644c-49a2-c57a-160ea0b8bc30"
      },
      "source": [
        "import random\n",
        "\n",
        "print(\"주사위값: \", random.randint(1,6))\n",
        "print(\"주사위값: \", random.randrange(1,7))\n",
        "list = ['가위','바위','보']\n",
        "season = ['봄','여름','가을','겨울']\n",
        "print(\"가위바위보: \", random.choice(list))\n",
        "print(\"계절: \", random.choice(season))"
      ],
      "execution_count": 17,
      "outputs": [
        {
          "output_type": "stream",
          "name": "stdout",
          "text": [
            "주사위값:  6\n",
            "주사위값:  6\n",
            "가위바위보:  보\n",
            "계절:  가을\n"
          ]
        }
      ]
    },
    {
      "cell_type": "code",
      "metadata": {
        "colab": {
          "base_uri": "https://localhost:8080/"
        },
        "id": "QNC6WOdTFHXm",
        "outputId": "59dd7591-b515-4217-ddf5-c8c1c59150f8"
      },
      "source": [
        "from datetime import datetime\n",
        "today = datetime.now()\n",
        "\n",
        "print('오늘의 시간: ',today)\n",
        "print('{}년 {}월 {}일'.format(today.year,today.month,today.day))\n",
        "print('{}시 {}분 {}초'.format(today.hour,today.minute,today.second))\n",
        "\n",
        "xmas = datetime(2021.12.25.0.0.0)\n",
        "k_sat = datetime(2023.11.16.0.0.0)\n",
        "print('xmas: '.xmas)\n",
        "print('고백까지 남은 디데이: '.today-xmas)\n",
        "print('수능까지 남은 디데이: '.today-k_sat)"
      ],
      "execution_count": 23,
      "outputs": [
        {
          "output_type": "stream",
          "name": "stdout",
          "text": [
            "오늘의 시간:  2021-10-26 01:01:20.605508\n",
            "2021년 10월 26일\n",
            "1시 1분 20초\n"
          ]
        }
      ]
    },
    {
      "cell_type": "code",
      "metadata": {
        "id": "85yZE6SmG0JX"
      },
      "source": [
        ""
      ],
      "execution_count": null,
      "outputs": []
    }
  ]
}