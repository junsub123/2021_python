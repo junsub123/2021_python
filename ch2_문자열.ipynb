{
  "nbformat": 4,
  "nbformat_minor": 0,
  "metadata": {
    "colab": {
      "name": "Untitled0.ipynb",
      "provenance": [],
      "authorship_tag": "ABX9TyNEaZkICI9P+w6PMVnYAoBl",
      "include_colab_link": true
    },
    "kernelspec": {
      "name": "python3",
      "display_name": "Python 3"
    },
    "language_info": {
      "name": "python"
    }
  },
  "cells": [
    {
      "cell_type": "markdown",
      "metadata": {
        "id": "view-in-github",
        "colab_type": "text"
      },
      "source": [
        "<a href=\"https://colab.research.google.com/github/junsub123/2021_python/blob/main/ch2_%EB%AC%B8%EC%9E%90%EC%97%B4.ipynb\" target=\"_parent\"><img src=\"https://colab.research.google.com/assets/colab-badge.svg\" alt=\"Open In Colab\"/></a>"
      ]
    },
    {
      "cell_type": "markdown",
      "metadata": {
        "id": "IdEOl-xcEIwX"
      },
      "source": [
        "##**학습목표**\n",
        "\n",
        "문자열(str)타입을 이해하기\n",
        "\n"
      ]
    },
    {
      "cell_type": "markdown",
      "metadata": {
        "id": "DBpQLzWbEdy_"
      },
      "source": [
        "##**문자열(String)**\n",
        "\n",
        "- 여러개의 문자를 순서대로 나열한 것\n",
        "- 문자열은 '(작은 따옴표)'혹은\"(큰 따옴표)\" 사이에 문자를 넣어서 생성\n",
        "- 문자열 자체에 \",' 가 있는 경우, 반대의 기호를 생성\n",
        "\n",
        "\n"
      ]
    },
    {
      "cell_type": "code",
      "metadata": {
        "colab": {
          "base_uri": "https://localhost:8080/"
        },
        "id": "nEcGcLrFE1qM",
        "outputId": "111a2a11-edbe-497e-bddc-9919d82a3b8a"
      },
      "source": [
        "a = \"Hello world!\"\n",
        "b = ' \"Helle\" world! '\n",
        "\n",
        "print(a)\n",
        "print(b)"
      ],
      "execution_count": 4,
      "outputs": [
        {
          "output_type": "stream",
          "text": [
            "Hello world!\n",
            " \"Helle\" world! \n"
          ],
          "name": "stdout"
        }
      ]
    },
    {
      "cell_type": "markdown",
      "metadata": {
        "id": "vMdPYQrsFcfP"
      },
      "source": [
        "###**이스케이프(escape) 문자**\n",
        "\n",
        "- 문자열 내의 문자의 의미를 달리하여 특정한 효과\n",
        "- Enter, tab\n",
        "\n",
        "- `\\n`: Enter, 새로운 줄(다음줄)\n",
        "- `\\t`: tab\n"
      ]
    },
    {
      "cell_type": "code",
      "metadata": {
        "colab": {
          "base_uri": "https://localhost:8080/"
        },
        "id": "IlchdETEGPTE",
        "outputId": "95331299-e899-475b-a6ff-27efd01f0c1c"
      },
      "source": [
        "print(\"안녕하세요, \\n제 이름은 \\t임준섭 입니다, \\n직업은 \\t학생 입니다.\")"
      ],
      "execution_count": 7,
      "outputs": [
        {
          "output_type": "stream",
          "text": [
            "안녕하세요, \n",
            "제 이름은 \t임준섭 입니다, \n",
            "직업은 \t학생 입니다.\n"
          ],
          "name": "stdout"
        }
      ]
    },
    {
      "cell_type": "markdown",
      "metadata": {
        "id": "L84wSxDmHWjn"
      },
      "source": [
        "## **문자열의 인덱스 및 추출**\n",
        "\n",
        "- 문자열의 각 문자는 순서가 있음 : `인덱스`\n",
        "- 인덱스 표현은 ? [ ]\n",
        "- 첫번째 문자부터 마지막까지 차례대로 순서를 가짐\n",
        "- 시작은 0! (1 X)\n"
      ]
    },
    {
      "cell_type": "code",
      "metadata": {
        "colab": {
          "base_uri": "https://localhost:8080/"
        },
        "id": "PVcJtLBFHt4k",
        "outputId": "0f730d77-786c-439a-d726-77be79485ca7"
      },
      "source": [
        "a = \"Hello World!\" # 번호는 0번부터 11번까지. 길이 12\n",
        "print(a[0], a[4], a[5])"
      ],
      "execution_count": 9,
      "outputs": [
        {
          "output_type": "stream",
          "text": [
            "H o  \n"
          ],
          "name": "stdout"
        }
      ]
    },
    {
      "cell_type": "markdown",
      "metadata": {
        "id": "xeGhRjExIYZO"
      },
      "source": [
        "### **-1 인덱스**\n",
        "- 다른 언어와 달리 Python은 음수의 인덱스를 지원\n",
        "- -1이 가장 마지막 인덱스, -2는 마지막에서 두번째 인덱스\n",
        "\n"
      ]
    },
    {
      "cell_type": "code",
      "metadata": {
        "colab": {
          "base_uri": "https://localhost:8080/"
        },
        "id": "4lyuesL5InUO",
        "outputId": "6dc1bb5a-050d-4bf9-db37-a3fa26074c65"
      },
      "source": [
        "# a = \"Hello World!\"\n",
        "print(a[-1], a[-3], a[-12]) # a[12]부터 a[-13]부터는 범위를 벗어나서 에러!"
      ],
      "execution_count": 11,
      "outputs": [
        {
          "output_type": "stream",
          "text": [
            "! l H\n"
          ],
          "name": "stdout"
        }
      ]
    },
    {
      "cell_type": "markdown",
      "metadata": {
        "id": "_EhNgp2dKCf2"
      },
      "source": [
        "####**문자열 슬라이싱(silcing)**\n",
        "- 인덱스로 추출할 때는 한글자만 추출한다면,\n",
        " 슬라이싱은 부분 문자열을 추출한다.\n",
        " - [시작:끝]과 같이 명시하여 해당 부분 문자를 추출\n",
        " - 시작이나 끝이 생략되어 있다면, 0부터 혹은 끝까지로 간주해 추출"
      ]
    },
    {
      "cell_type": "code",
      "metadata": {
        "colab": {
          "base_uri": "https://localhost:8080/"
        },
        "id": "aEXDItRdKbdL",
        "outputId": "06259d71-ca2f-4aa2-f7d0-40a790d7940a"
      },
      "source": [
        "# a = \"Hello World!\"\n",
        "\n",
        "print(a[0:11])\n",
        "print(a[3:10])\n",
        "print(a[:10])\n",
        "print(a[3:])"
      ],
      "execution_count": 15,
      "outputs": [
        {
          "output_type": "stream",
          "text": [
            "Hello World\n",
            "lo Worl\n",
            "Hello Worl\n",
            "lo World!\n"
          ],
          "name": "stdout"
        }
      ]
    },
    {
      "cell_type": "markdown",
      "metadata": {
        "id": "H7HyhxVSLBGX"
      },
      "source": [
        "#### **문자열 내장 함수**\n",
        "\n",
        "- 문자열에 여러가지 기능을 제공\n"
      ]
    },
    {
      "cell_type": "code",
      "metadata": {
        "colab": {
          "base_uri": "https://localhost:8080/"
        },
        "id": "j9uXNhVBLHPl",
        "outputId": "a5c66952-26f5-4bc9-8090-ac71f9781092"
      },
      "source": [
        "# a = \"Hello World!\"\n",
        "print(a.upper()) # 모든 문자를 대문자로 바꿈\n",
        "print(a.lower()) # 모든 문자를 소문자로 바꿈\n",
        "print(a.replace('H','J')) # 문자를 다른문자로 바꿀수있음 (여러개 가능)\n",
        "print(a.replace('ello','i'))\n",
        "print(len(a)) # 함수의 길이를 보여줌\n",
        "print(a.count('l')) # 문자가 몇번째에 있는지 알려줌\n",
        "\n",
        "print(a.find('w')) # 입력한 문자의 위치를 알려줌 (있는값 없는값둘다 출력)\n",
        "print(a.index('W')) # 입력한 문자의 위치를 알려줌 (있는값만 출력)\n",
        "\n",
        "b = \"!\".join(a)\n",
        "print(b)"
      ],
      "execution_count": 26,
      "outputs": [
        {
          "output_type": "stream",
          "text": [
            "HELLO WORLD!\n",
            "hello world!\n",
            "Jello World!\n",
            "Hi World!\n",
            "12\n",
            "3\n",
            "-1\n",
            "6\n",
            "H!e!l!l!o! !W!o!r!l!d!!\n"
          ],
          "name": "stdout"
        }
      ]
    },
    {
      "cell_type": "markdown",
      "metadata": {
        "id": "gmNYK6GGSz6e"
      },
      "source": [
        "##**format**\n",
        "- 문자열내의 특정한 값을 변수로부터 초기화하여 동적으로 문자열을 생성"
      ]
    },
    {
      "cell_type": "code",
      "metadata": {
        "colab": {
          "base_uri": "https://localhost:8080/",
          "height": 53
        },
        "id": "wrGxIkJYS7Z6",
        "outputId": "8cbd964f-9732-438f-b3ae-ab669559ebf0"
      },
      "source": [
        "temp = 23\n",
        "per = 70\n",
        "\n",
        "a = '현재 기온은 {}도 이고, 비올 확률은 {}%입니다.'.format(temp,per) \n",
        "print(a)\n",
        "\n",
        "cla = 3\n",
        "# b = \n",
        "f\"현재 프로그래밍 {cla}교시이다.\"\n"
      ],
      "execution_count": 33,
      "outputs": [
        {
          "output_type": "stream",
          "text": [
            "현재 기온은 23도 이고, 비올 확률은 70%입니다.\n"
          ],
          "name": "stdout"
        },
        {
          "output_type": "execute_result",
          "data": {
            "application/vnd.google.colaboratory.intrinsic+json": {
              "type": "string"
            },
            "text/plain": [
              "'현재 프로그래밍 3교시이다.'"
            ]
          },
          "metadata": {},
          "execution_count": 33
        }
      ]
    },
    {
      "cell_type": "markdown",
      "metadata": {
        "id": "eoyB7OGKVPIm"
      },
      "source": [
        "#### **splite**\n",
        "- 문자열을 특정한 문자로 구분하여 치환"
      ]
    },
    {
      "cell_type": "code",
      "metadata": {
        "colab": {
          "base_uri": "https://localhost:8080/"
        },
        "id": "ual3XH2zVVtV",
        "outputId": "88ce986c-85ac-4c22-f005-331fc9fcc402"
      },
      "source": [
        "a = 'what a wonderful dat. nice weather !'\n",
        "a.split('w') # 입력한 문제를 짜른다"
      ],
      "execution_count": 35,
      "outputs": [
        {
          "output_type": "execute_result",
          "data": {
            "text/plain": [
              "['', 'hat a ', 'onderful dat. nice ', 'eather !']"
            ]
          },
          "metadata": {},
          "execution_count": 35
        }
      ]
    }
  ]
}