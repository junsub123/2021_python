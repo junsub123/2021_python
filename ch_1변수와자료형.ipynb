{
  "nbformat": 4,
  "nbformat_minor": 0,
  "metadata": {
    "colab": {
      "name": "Untitled0.ipynb",
      "provenance": [],
      "authorship_tag": "ABX9TyPNEmOISvTK5l1dwPFUPxIl",
      "include_colab_link": true
    },
    "kernelspec": {
      "name": "python3",
      "display_name": "Python 3"
    },
    "language_info": {
      "name": "python"
    }
  },
  "cells": [
    {
      "cell_type": "markdown",
      "metadata": {
        "id": "view-in-github",
        "colab_type": "text"
      },
      "source": [
        "<a href=\"https://colab.research.google.com/github/junsub123/2021_python/blob/main/ch_1%EB%B3%80%EC%88%98%EC%99%80%EC%9E%90%EB%A3%8C%ED%98%95.ipynb\" target=\"_parent\"><img src=\"https://colab.research.google.com/assets/colab-badge.svg\" alt=\"Open In Colab\"/></a>"
      ]
    },
    {
      "cell_type": "markdown",
      "metadata": {
        "id": "NF8J0RTXauHn"
      },
      "source": [
        ""
      ]
    },
    {
      "cell_type": "markdown",
      "metadata": {
        "id": "lyHhbTR6avgV"
      },
      "source": [
        "## **학습목표**\n",
        "1. python 언어에서 변수의 의미를 이해하기\n",
        "2. 기본 데이터  타입 선언하기\n",
        " - int, float, str, bool"
      ]
    },
    {
      "cell_type": "markdown",
      "metadata": {
        "id": "NkbBWEybb0w_"
      },
      "source": [
        "## = 대입연산자\n",
        "- 오른쪽 수식이나 값을 계산한 후 왼쪽에\n",
        "명시된 변수에 해당 값을 대입\n",
        "- 변수는 해당 값을 가지게 된다."
      ]
    },
    {
      "cell_type": "code",
      "metadata": {
        "id": "ETb-gl8bcHod"
      },
      "source": [
        "a = 10 # int\n",
        "a = 11.4 # float"
      ],
      "execution_count": null,
      "outputs": []
    },
    {
      "cell_type": "markdown",
      "metadata": {
        "id": "xmkJe2_BcwWn"
      },
      "source": [
        "## **주석**\n",
        "- 코드에서 #으로 시작하는 뒷부분\n",
        "- python에서는 소스코드를 실행할 때 #을\n",
        "만나면 무시\n",
        "- 개발자(사람)이 보기 위한 용도로 사용"
      ]
    },
    {
      "cell_type": "code",
      "metadata": {
        "id": "ZqWjyqWlc_hh"
      },
      "source": [
        "# This line is very important\n",
        "# so don't delete those line\n",
        "\n",
        "math = 70"
      ],
      "execution_count": null,
      "outputs": []
    },
    {
      "cell_type": "markdown",
      "metadata": {
        "id": "dtm-nVmgeFlT"
      },
      "source": [
        "## **변수 값 확인법**\n",
        "- print() 함수 사용\n",
        "- 고드에 마지막에 변수 값을 위치시킨 후 실행\n"
      ]
    },
    {
      "cell_type": "code",
      "metadata": {
        "colab": {
          "base_uri": "https://localhost:8080/"
        },
        "id": "zcBDPoA3eY0Y",
        "outputId": "4ffc0b78-86bf-4578-91cb-078ea94dce85"
      },
      "source": [
        "a = 10\n",
        "b = 11.4\n",
        "a\n",
        "b\n",
        "print(a)\n",
        "print(a,b)\n",
        "b"
      ],
      "execution_count": null,
      "outputs": [
        {
          "output_type": "stream",
          "text": [
            "10\n",
            "10 11.4\n"
          ],
          "name": "stdout"
        },
        {
          "output_type": "execute_result",
          "data": {
            "text/plain": [
              "11.4"
            ]
          },
          "metadata": {},
          "execution_count": 7
        }
      ]
    },
    {
      "cell_type": "markdown",
      "metadata": {
        "id": "VXvCp1_agNrj"
      },
      "source": [
        "## **print 함수**\n",
        "- 함수란 특정 기능을 반복적으로 호출하여 \n",
        "사용가능한 코드 블럭\n",
        "- , 로 여러 변수를 한줄에 출력\n",
        "- 기본적으로 한칸 띄어쓰기 후 출력"
      ]
    },
    {
      "cell_type": "code",
      "metadata": {
        "colab": {
          "base_uri": "https://localhost:8080/"
        },
        "id": "gb1U6TfBgk75",
        "outputId": "314e4051-d154-4b92-c80a-0cd12aa6646d"
      },
      "source": [
        "print(a, b)\n",
        "print(a, 10, 200, b)\n",
        "print(\"선생님 사랑해요\")"
      ],
      "execution_count": null,
      "outputs": [
        {
          "output_type": "stream",
          "text": [
            "10 11.4\n",
            "10 10 200 11.4\n",
            "선생님 사랑해요\n"
          ],
          "name": "stdout"
        }
      ]
    },
    {
      "cell_type": "markdown",
      "metadata": {
        "id": "gylNHkfghN_w"
      },
      "source": [
        "**print 함수 설정**\n",
        "- sep(구분자) : 각변수 사이에서 구분해주는 역할\n",
        "- end : 마지막에 출력할 문자열"
      ]
    },
    {
      "cell_type": "code",
      "metadata": {
        "colab": {
          "base_uri": "https://localhost:8080/"
        },
        "id": "zNTxFPjahjmw",
        "outputId": "10849813-ea35-4b72-abf6-503ceff72e39"
      },
      "source": [
        "print(a,b, 200, '준섭', sep = '#', end = '!!')"
      ],
      "execution_count": null,
      "outputs": [
        {
          "output_type": "stream",
          "text": [
            "10#11.4#200#준섭!!"
          ],
          "name": "stdout"
        }
      ]
    },
    {
      "cell_type": "markdown",
      "metadata": {
        "id": "AY_IDOFP2lrZ"
      },
      "source": [
        "##**변수 이름 규칙**\n",
        "\n",
        "- 시작을 영문 대소문자 구성가능\n",
        "- BUT 숫자는 불가능\n",
        "- 일반적으로 변수를 표현할 때 정확하고 간결한 이름을 사용하는 것이 원칙\n",
        "- 주석으로 된거는 실행이 안돼는것"
      ]
    },
    {
      "cell_type": "code",
      "metadata": {
        "id": "lLPm1CT13StG"
      },
      "source": [
        "abvABC = 1000\n",
        "___abc = 100\n",
        "ACBV = 100\n",
        "\n",
        "### 4ever = 10"
      ],
      "execution_count": 2,
      "outputs": []
    },
    {
      "cell_type": "markdown",
      "metadata": {
        "id": "4LBInwCW3o-4"
      },
      "source": [
        "### **예약어(키워드)**\n",
        "\n",
        "- python에서 미리 선점해서 사용중인 키워드\n",
        "- import, for, while, if, elif 등.....\n"
      ]
    },
    {
      "cell_type": "code",
      "metadata": {
        "id": "o64ZbrYF369g"
      },
      "source": [
        "_for = 100\n",
        "### for = 120"
      ],
      "execution_count": 4,
      "outputs": []
    },
    {
      "cell_type": "markdown",
      "metadata": {
        "id": "PK6sr8fa4OHZ"
      },
      "source": [
        "##**기본 데이터 타입**\n",
        "\n",
        "- 정수(int)\n",
        "- 실수(float)\n",
        "- 문자열(str)\n",
        "- 불리언(boolean)\n",
        "\n",
        "**type() 함수**\n",
        "  - 해당 변수, 값의 타입(type)을 알고자 할 때 사용"
      ]
    },
    {
      "cell_type": "code",
      "metadata": {
        "id": "yFDifEr94jqI",
        "outputId": "ae43c6bf-102b-49c4-b610-f8556f505a98",
        "colab": {
          "base_uri": "https://localhost:8080/"
        }
      },
      "source": [
        "a = 100\n",
        "b = 11.4\n",
        "c = '오늘은 비가 와요'\n",
        "d = a>b\n",
        "\n",
        "print(type(a),a,type(b),b,type(c),c,type(d),d)"
      ],
      "execution_count": 7,
      "outputs": [
        {
          "output_type": "stream",
          "text": [
            "<class 'int'> 100 <class 'float'> 11.4 <class 'str'> 오늘은 비가 와요 <class 'bool'> True\n"
          ],
          "name": "stdout"
        }
      ]
    },
    {
      "cell_type": "markdown",
      "metadata": {
        "id": "2s1xjE4D6dg5"
      },
      "source": [
        "### **None**\n",
        "\n",
        "- 아무런 값을 갖지 않을 때 사용\n",
        "- 일반적으로 변수가 초기값을 갖지 않게 하기 위해 사용\n",
        "- Null과 같은 의미"
      ]
    },
    {
      "cell_type": "code",
      "metadata": {
        "id": "uS8nC16N7BLW",
        "outputId": "f10b48de-cf82-435e-aa7b-292383d1fdee",
        "colab": {
          "base_uri": "https://localhost:8080/"
        }
      },
      "source": [
        "c = None\n",
        "print(c)"
      ],
      "execution_count": 8,
      "outputs": [
        {
          "output_type": "stream",
          "text": [
            "None\n"
          ],
          "name": "stdout"
        }
      ]
    },
    {
      "cell_type": "markdown",
      "metadata": {
        "id": "0YFcl6RI7Xqx"
      },
      "source": [
        "##**비교연산자**\n",
        "\n",
        "- 프로그래밍에서 비교를 할경우 사용한다.\n",
        "-  <, > (작다, 크다)\n",
        "- <=, >= (작거나 같다, 크거나 같다)\n",
        "- == (같다)\n",
        "- != (같지 않다)\n",
        "- 비교 연산자 결과는 Bool(참과 거짓)"
      ]
    },
    {
      "cell_type": "code",
      "metadata": {
        "id": "wad9XfQD8MGw",
        "outputId": "fa28b3fe-8a8e-4345-af3e-31d129b4657f",
        "colab": {
          "base_uri": "https://localhost:8080/"
        }
      },
      "source": [
        "a = 5\n",
        "b = 4\n",
        "\n",
        "print(a>b) # Ture\n",
        "print(a<b) # False\n",
        "print(a>=b) # Ture\n",
        "print(a<=b) # False\n",
        "print(a==b) # False\n",
        "print(a!=b) # Ture"
      ],
      "execution_count": 9,
      "outputs": [
        {
          "output_type": "stream",
          "text": [
            "True\n",
            "False\n",
            "True\n",
            "False\n",
            "False\n",
            "True\n"
          ],
          "name": "stdout"
        }
      ]
    },
    {
      "cell_type": "markdown",
      "metadata": {
        "id": "vhig8lapBOvY"
      },
      "source": [
        "## **기본연산자**\n",
        "\n"
      ]
    },
    {
      "cell_type": "code",
      "metadata": {
        "id": "kU7e3XBOBWrA",
        "outputId": "2c395eb8-e235-415e-81c6-4438451f392e",
        "colab": {
          "base_uri": "https://localhost:8080/"
        }
      },
      "source": [
        "print(a+b) # a = 5, b = 4\n",
        "print(a-b)\n",
        "print(a*b)\n",
        "print(a/b)\n",
        "print(a//b)\n",
        "print(a%b)\n",
        "print(a**b) # 5의 4제곱"
      ],
      "execution_count": 15,
      "outputs": [
        {
          "output_type": "stream",
          "text": [
            "9\n",
            "1\n",
            "20\n",
            "1.25\n",
            "1\n",
            "1\n",
            "625\n"
          ],
          "name": "stdout"
        }
      ]
    },
    {
      "cell_type": "markdown",
      "metadata": {
        "id": "pWFAJGx2CJpX"
      },
      "source": [
        "##**연산자 우선순위**\n",
        "\n",
        "- 기본적으로 수학의 연산자와 동일\n",
        "- 강제로 연산을 먼저하기 위해서는 ()를 사용"
      ]
    },
    {
      "cell_type": "code",
      "metadata": {
        "id": "9so_ZxnvCURA",
        "outputId": "73e3afed-4f17-4bb2-aa8c-0650444629db",
        "colab": {
          "base_uri": "https://localhost:8080/"
        }
      },
      "source": [
        "print(a + b * 2) # a = 5, b = 4\n",
        "print((a + b)* 2)\n",
        "print(2 * a ** 3)"
      ],
      "execution_count": 16,
      "outputs": [
        {
          "output_type": "stream",
          "text": [
            "13\n",
            "18\n",
            "250\n"
          ],
          "name": "stdout"
        }
      ]
    }
  ]
}